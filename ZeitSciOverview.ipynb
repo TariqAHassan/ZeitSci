{
 "cells": [
  {
   "cell_type": "markdown",
   "metadata": {},
   "source": [
    "ZeitSci: An Analysis of Recent Trends in the Natural Sciences\n",
    "====\n",
    "\n",
    "Tariq A. Hassan\n",
    "----"
   ]
  },
  {
   "cell_type": "markdown",
   "metadata": {},
   "source": [
    "***"
   ]
  },
  {
   "cell_type": "markdown",
   "metadata": {},
   "source": [
    "Funding Simulation \n",
    "----\n",
    "The animation-like graphic showing the movement of science grants around the world was made possible by the *amazing* JavaScript library for Data Visualization known as D3.js. What follows are some brief notes on how this graphic was constructed."
   ]
  },
  {
   "cell_type": "markdown",
   "metadata": {},
   "source": [
    "**Point Scaling**"
   ]
  },
  {
   "cell_type": "markdown",
   "metadata": {},
   "source": [
    "Let $c$ be some scalar and $G$ be a set of research grants in some currency, that is: $\\left\\{{D ∈ \\mathbb{R}\\hspace{3pt}|\\hspace{3pt}D \\geq 0}\\right\\}$."
   ]
  },
  {
   "cell_type": "markdown",
   "metadata": {},
   "source": [
    "$$ p(x)= \\frac {L}{1+\\mathrm{e} ^{-k(x \\cdot \\phi^{-1} \\hspace{2pt} -\\hspace{2pt}x_{0})}} - \\frac{L}{2} + m$$\n",
    "\n",
    "$where$:\n",
    "- $ x_{0} = 0 $\n",
    "- $ \\phi = c \\cdot {10}^{{\\left \\lfloor{\\log_{10}{\\max{G}}}\\right \\rfloor} \\hspace{2pt}-\\hspace{2pt}1} $\n",
    "- $ m = \\min{G}$\n",
    "- $L = \\hspace{2pt} \\max{G}\\cdot\\phi^{-1}$\n",
    "\n",
    "\n"
   ]
  },
  {
   "cell_type": "markdown",
   "metadata": {},
   "source": [
    "This is, essentially, the logistic equation with four properties of note:\n",
    "\n",
    "1. $x_{0} = 0$ sets the y-value of the functions midpoint equal to zero.\n",
    "2. $\\phi$ keeps the value of $p(x)$ close to zero, even for large values of $\\max D$.\n",
    "3. $m$ sets a floor for the lowest value that can be returned (notice that all other terms vanish if $x = 0$).\n",
    "4. $\\frac{L}{2}$ sets the x-value of the functions midpoint equal to zero. "
   ]
  },
  {
   "cell_type": "markdown",
   "metadata": {},
   "source": [
    "Let's quickly look at this as code."
   ]
  },
  {
   "cell_type": "code",
   "execution_count": 1,
   "metadata": {
    "collapsed": true
   },
   "outputs": [],
   "source": [
    "#Imports\n",
    "import math\n",
    "import numpy\n",
    "import matplotlib.pyplot as plt\n",
    "plt.style.use('seaborn-darkgrid')\n",
    "%matplotlib inline"
   ]
  },
  {
   "cell_type": "markdown",
   "metadata": {},
   "source": [
    "An implementation in python looks is shown below, with\n",
    "`scalar` and `k` set to the values they are in the simulation."
   ]
  },
  {
   "cell_type": "code",
   "execution_count": 2,
   "metadata": {
    "collapsed": true
   },
   "outputs": [],
   "source": [
    "def logistic_algo(x, min_value, max_value, scalar=2, k=1):\n",
    "    \"\"\"\n",
    "    Algorithm for scaling points in a set according to a Logistic Function.\n",
    "    \"\"\"\n",
    "    phi = scalar * (10**(int(math.log10(max_value)) - 1))\n",
    "\n",
    "    L = max_value/phi\n",
    "    denominator = 1 + math.e**(-1 * k*(x/phi))\n",
    "\n",
    "    return L/denominator - L/2 + min_value"
   ]
  },
  {
   "cell_type": "markdown",
   "metadata": {},
   "source": [
    "If we graph this function, we can see its action on $x$ is rather pedestrian."
   ]
  },
  {
   "cell_type": "code",
   "execution_count": 3,
   "metadata": {
    "collapsed": false
   },
   "outputs": [
    {
     "data": {
      "text/plain": [
       "[<matplotlib.lines.Line2D at 0x108105940>]"
      ]
     },
     "execution_count": 3,
     "metadata": {},
     "output_type": "execute_result"
    },
    {
     "data": {
      "image/png": "[encoded data removed]",
      "text/plain": [
       "<matplotlib.figure.Figure at 0x1080362b0>"
      ]
     },
     "metadata": {},
     "output_type": "display_data"
    }
   ],
   "source": [
    "x = numpy.linspace(0, 50, 50) \n",
    "y = logistic_algo(x, min(x), max(x))\n",
    "\n",
    "# compose the plot\n",
    "plt.plot(x, y) "
   ]
  }
 ],
 "metadata": {
  "kernelspec": {
   "display_name": "Python 3",
   "language": "python",
   "name": "python3"
  },
  "language_info": {
   "codemirror_mode": {
    "name": "ipython",
    "version": 3
   },
   "file_extension": ".py",
   "mimetype": "text/x-python",
   "name": "python",
   "nbconvert_exporter": "python",
   "pygments_lexer": "ipython3",
   "version": "3.5.2"
  }
 },
 "nbformat": 4,
 "nbformat_minor": 1
}
