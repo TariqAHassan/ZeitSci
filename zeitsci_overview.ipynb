{
 "cells": [
  {
   "cell_type": "markdown",
   "metadata": {},
   "source": [
    "<h2>ZeitSci: A Quantitative Analysis of Trends in Modern Science</h2>\n",
    "\n",
    "<h3>Technical Summary <small>(In Progress)</small></h3>\n",
    "\n",
    "\n",
    "**by Tariq Hassan**"
   ]
  },
  {
   "cell_type": "markdown",
   "metadata": {},
   "source": [
    "***"
   ]
  },
  {
   "cell_type": "markdown",
   "metadata": {},
   "source": [
    "Funding Simulation \n",
    "----\n",
    "The animation-like graphic showing the movement of science grants around the world was made possible by the JavaScript library for Data Visualization, [Data Driven Documents (D3.js)](https://d3js.org). What follows are some brief technical notes on this process."
   ]
  },
  {
   "cell_type": "markdown",
   "metadata": {},
   "source": [
    "**Point Scaling**"
   ]
  },
  {
   "cell_type": "markdown",
   "metadata": {},
   "source": [
    "$Let \\hspace{2px} c$ be some scalar and $G$ be a set of research grants in some currency."
   ]
  },
  {
   "cell_type": "markdown",
   "metadata": {},
   "source": [
    "Now, $Let$\n",
    "\n",
    "$$ p(x)= \\frac {L}{1+\\mathrm{e} ^{-k(x \\cdot \\phi^{-1} \\hspace{2pt} -\\hspace{2pt}x_{0})}} - \\frac{L}{2} + m$$\n",
    "\n",
    "$where$:\n",
    "- $x_{0} = 0$\n",
    "- $\\phi = c \\cdot {10}^{{\\left \\lfloor{\\log_{10}{\\max{G}}}\\right \\rfloor} \\hspace{2pt}-\\hspace{2pt}1}$\n",
    "- $m = \\min{G}$\n",
    "- $L = \\hspace{2pt} \\max{G}\\cdot\\phi^{-1}$\n",
    "\n",
    "\n"
   ]
  },
  {
   "cell_type": "markdown",
   "metadata": {},
   "source": [
    "This is, essentially, the logistic equation with four properties of note:\n",
    "\n",
    "1. $x_{0} = 0$ sets the x-value of the function's midpoint equal to zero.\n",
    "2. $\\phi$ keeps the value of $p(x)$ close to zero, even for large values of $\\max D$.\n",
    "3. $m$ sets a floor for the lowest value that can be returned (notice that all other terms vanish if $x = 0$).\n",
    "4. $\\frac{L}{2}$ sets the y-value of the function's midpoint equal to zero. \n",
    "\n",
    "Additionally:<br>\n",
    "- $k$ controls the *steepness* of the function.\n",
    "- $c$ adds additional control over the distance of the values from zero. Specifically, larger values of $c$ reduce the distance of values returned by $p(x)$ from zero."
   ]
  },
  {
   "cell_type": "markdown",
   "metadata": {},
   "source": [
    "Let's quickly look at this as code."
   ]
  },
  {
   "cell_type": "code",
   "execution_count": 1,
   "metadata": {
    "collapsed": true
   },
   "outputs": [],
   "source": [
    "# Imports\n",
    "import math\n",
    "import matplotlib.pyplot as plt\n",
    "plt.style.use('seaborn-darkgrid')\n",
    "%matplotlib inline"
   ]
  },
  {
   "cell_type": "markdown",
   "metadata": {},
   "source": [
    "While this procedure is written in JavaScript for use by D3.js during the simulation, an implementation in python is shown below for simplicity.<br> \n",
    "Note: `c` and `k` have be set to the values they are in the simulation. "
   ]
  },
  {
   "cell_type": "code",
   "execution_count": 2,
   "metadata": {
    "collapsed": true
   },
   "outputs": [],
   "source": [
    "def logistic_algo(x, max_value, min_value=1.5, c=0.85, k=0.1):\n",
    "    \"\"\"\n",
    "    Algorithm for scaling a given point's radius according to a Logistic Function.\n",
    "    \"\"\"\n",
    "    phi = c * (10**(int(math.log10(max_value)) - 1))\n",
    "\n",
    "    L = max_value/phi\n",
    "    denominator = 1 + math.e**(-1 * k * (x/phi))\n",
    "\n",
    "    return L/denominator - L/2 + min_value"
   ]
  },
  {
   "cell_type": "markdown",
   "metadata": {},
   "source": [
    "If we graph this function, it should look familiar. "
   ]
  },
  {
   "cell_type": "code",
   "execution_count": 3,
   "metadata": {
    "collapsed": false
   },
   "outputs": [
    {
     "data": {
      "text/plain": [
       "[<matplotlib.lines.Line2D at 0x107ff5710>]"
      ]
     },
     "execution_count": 3,
     "metadata": {},
     "output_type": "execute_result"
    },
    {
     "data": {
      "image/png": "[encoded data removed]",
      "text/plain": [
       "<matplotlib.figure.Figure at 0x107f8f358>"
      ]
     },
     "metadata": {},
     "output_type": "display_data"
    }
   ],
   "source": [
    "x = list(range(50))\n",
    "y = [logistic_algo(p, max(x)) for p in x]\n",
    "\n",
    "# compose the plot\n",
    "plt.plot(x, y) "
   ]
  },
  {
   "cell_type": "markdown",
   "metadata": {},
   "source": [
    "**Homogenizing Longitude and Latitude**"
   ]
  },
  {
   "cell_type": "markdown",
   "metadata": {},
   "source": [
    "For many of the organizations in the database, there were multiple coordinates found.\n",
    "This is partly a side effect of postal codes being used to work out geographic location.\n",
    "For instance, while two different departments may belong to the same university, their postal codes may vary slightly.\n",
    "\n",
    "To homogenize these discrepancies, I wrote an algorithm to find the most plausible central point of\n",
    "all of the points mapped to a given organization. While the algorithm itself is relatively straightforward,\n",
    "it is surprisingly effective at solving this problem. "
   ]
  },
  {
   "cell_type": "markdown",
   "metadata": {},
   "source": [
    "Steps:\n",
    "1. Calculate the distance from each unique point to every other unique point using haversine formula.\n",
    "2. Divide by the number of times that unique point appears in the input list. This reduces the chance of annomilies in the mapping being selected by biasing selection towards coordinates which appear fequently.\n",
    "3. Select the coordinate which has the smallest weighted value.\n",
    "4. Check the weighted value against some scalar threshold (optional).\n",
    "5. Return this coordinate if it is less than or equal to the thresshold; else return NaN."
   ]
  },
  {
   "cell_type": "markdown",
   "metadata": {},
   "source": [
    "In code, this procedure can be expressed as follows:"
   ]
  },
  {
   "cell_type": "code",
   "execution_count": 4,
   "metadata": {
    "collapsed": true
   },
   "outputs": [],
   "source": [
    "# Imports\n",
    "import numpy as np\n",
    "from collections import Counter\n",
    "from haversine import haversine"
   ]
  },
  {
   "cell_type": "code",
   "execution_count": 5,
   "metadata": {
    "collapsed": true
   },
   "outputs": [],
   "source": [
    "def most_central_point(geos_array, valid_medoid):\n",
    "    \"\"\"\n",
    "    Algorithm to find the point that is most central (i.e., medoid)\n",
    "    using the haversine formula. Distances are weighted by the number of observations.\n",
    "\n",
    "    :param geos_array: a list of coordinate\n",
    "    :type geos_array: list of tuples (must be immutable as this will be hashed)\n",
    "    :param valid_medoid: min for mean distance to all other points / number of observations.\n",
    "    :type valid_medoid: float or int\n",
    "    :return: medoid coordinate\n",
    "    \"\"\"\n",
    "    # Count the number times each coordinate appears in `geos_array`\n",
    "    geos_array_count = dict(Counter(geos_array))\n",
    "    \n",
    "    # Define a list of unique coordinates\n",
    "    uniuqe_geos = list(set(geos_array))\n",
    "\n",
    "    # Compute the distance from each point to all of the others\n",
    "    coord_dict = dict()\n",
    "    for i in uniuqe_geos:\n",
    "        coord_dict[i] = [haversine(i, j) for j in uniuqe_geos if j != i]\n",
    "\n",
    "    # Compute the mean distance for each coordinate and divide by the number of times it occured\n",
    "    coord_dict_mean = {k: mean(v)/float(geos_array_count[k]) for k, v in coord_dict.items()}\n",
    "\n",
    "    # Use the coordinate with the smallest corresponding value\n",
    "    medoid_mean_coord = min(coord_dict_mean, key=coord_dict_mean.get)\n",
    "\n",
    "    # Check against threshold\n",
    "    if coord_dict_mean[medoid_mean_coord] <= valid_medoid:\n",
    "        return medoid_mean_coord\n",
    "    else:\n",
    "        return np.NaN"
   ]
  },
  {
   "cell_type": "markdown",
   "metadata": {},
   "source": [
    "While I have yet to formalize a validation procedure, by simple inspection this process appears to reliably see through the noise and select a single, plausable coordinate to represent most of the organizations in the database."
   ]
  }
 ],
 "metadata": {
  "kernelspec": {
   "display_name": "Python 3",
   "language": "python",
   "name": "python3"
  },
  "language_info": {
   "codemirror_mode": {
    "name": "ipython",
    "version": 3
   },
   "file_extension": ".py",
   "mimetype": "text/x-python",
   "name": "python",
   "nbconvert_exporter": "python",
   "pygments_lexer": "ipython3",
   "version": "3.5.2"
  }
 },
 "nbformat": 4,
 "nbformat_minor": 1
}
